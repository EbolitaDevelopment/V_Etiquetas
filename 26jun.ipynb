{
 "cells": [
  {
   "cell_type": "code",
   "execution_count": 1,
   "id": "e6407058",
   "metadata": {},
   "outputs": [],
   "source": [
    "#MALDONADO ALCALA LEONARDO 6IV8\n",
    "import pandas as pd\n",
    "import matplotlib.pyplot as plt\n",
    "\n",
    "from tensorflow.keras.models import Sequential\n",
    "from tensorflow.keras.layers import Dense\n",
    "from tensorflow.keras.optimizers import Adam"
   ]
  },
  {
   "cell_type": "code",
   "execution_count": 2,
   "id": "f66eb46c",
   "metadata": {},
   "outputs": [
    {
     "name": "stdout",
     "output_type": "stream",
     "text": [
      "<class 'pandas.core.frame.DataFrame'>\n",
      "RangeIndex: 768 entries, 0 to 767\n",
      "Data columns (total 9 columns):\n",
      " #   Column                    Non-Null Count  Dtype  \n",
      "---  ------                    --------------  -----  \n",
      " 0   Pregnancies               768 non-null    int64  \n",
      " 1   Glucose                   768 non-null    int64  \n",
      " 2   BloodPressure             768 non-null    int64  \n",
      " 3   SkinThickness             768 non-null    int64  \n",
      " 4   Insulin                   768 non-null    int64  \n",
      " 5   BMI                       768 non-null    float64\n",
      " 6   DiabetesPedigreeFunction  768 non-null    float64\n",
      " 7   Age                       768 non-null    int64  \n",
      " 8   Outcome                   768 non-null    int64  \n",
      "dtypes: float64(2), int64(7)\n",
      "memory usage: 54.1 KB\n"
     ]
    }
   ],
   "source": [
    "data_df = pd.read_csv('diabetes.csv')\n",
    "data_df.info()"
   ]
  },
  {
   "cell_type": "code",
   "execution_count": 3,
   "id": "095550e7",
   "metadata": {},
   "outputs": [],
   "source": [
    "x= data_df.iloc[:,0:8]\n",
    "y= data_df.iloc[:,8]"
   ]
  },
  {
   "cell_type": "code",
   "execution_count": 4,
   "id": "58b96f62",
   "metadata": {},
   "outputs": [
    {
     "data": {
      "text/plain": [
       "(768, 8)"
      ]
     },
     "execution_count": 4,
     "metadata": {},
     "output_type": "execute_result"
    }
   ],
   "source": [
    "x.shape"
   ]
  },
  {
   "cell_type": "code",
   "execution_count": 5,
   "id": "b42d8147",
   "metadata": {},
   "outputs": [
    {
     "name": "stderr",
     "output_type": "stream",
     "text": [
      "/opt/anaconda3/lib/python3.12/site-packages/keras/src/layers/core/dense.py:93: UserWarning: Do not pass an `input_shape`/`input_dim` argument to a layer. When using Sequential models, prefer using an `Input(shape)` object as the first layer in the model instead.\n",
      "  super().__init__(activity_regularizer=activity_regularizer, **kwargs)\n"
     ]
    }
   ],
   "source": [
    "model = Sequential()\n",
    "model.add(Dense(12, input_dim=8, activation='relu'))\n",
    "model.add(Dense(8, activation='relu'))\n",
    "\n",
    "model.add(Dense(1, activation='sigmoid'))"
   ]
  },
  {
   "cell_type": "code",
   "execution_count": 6,
   "id": "a795b5a8",
   "metadata": {},
   "outputs": [
    {
     "data": {
      "text/html": [
       "<pre style=\"white-space:pre;overflow-x:auto;line-height:normal;font-family:Menlo,'DejaVu Sans Mono',consolas,'Courier New',monospace\"><span style=\"font-weight: bold\">Model: \"sequential\"</span>\n",
       "</pre>\n"
      ],
      "text/plain": [
       "\u001b[1mModel: \"sequential\"\u001b[0m\n"
      ]
     },
     "metadata": {},
     "output_type": "display_data"
    },
    {
     "data": {
      "text/html": [
       "<pre style=\"white-space:pre;overflow-x:auto;line-height:normal;font-family:Menlo,'DejaVu Sans Mono',consolas,'Courier New',monospace\">┏━━━━━━━━━━━━━━━━━━━━━━━━━━━━━━━━━┳━━━━━━━━━━━━━━━━━━━━━━━━┳━━━━━━━━━━━━━━━┓\n",
       "┃<span style=\"font-weight: bold\"> Layer (type)                    </span>┃<span style=\"font-weight: bold\"> Output Shape           </span>┃<span style=\"font-weight: bold\">       Param # </span>┃\n",
       "┡━━━━━━━━━━━━━━━━━━━━━━━━━━━━━━━━━╇━━━━━━━━━━━━━━━━━━━━━━━━╇━━━━━━━━━━━━━━━┩\n",
       "│ dense (<span style=\"color: #0087ff; text-decoration-color: #0087ff\">Dense</span>)                   │ (<span style=\"color: #00d7ff; text-decoration-color: #00d7ff\">None</span>, <span style=\"color: #00af00; text-decoration-color: #00af00\">12</span>)             │           <span style=\"color: #00af00; text-decoration-color: #00af00\">108</span> │\n",
       "├─────────────────────────────────┼────────────────────────┼───────────────┤\n",
       "│ dense_1 (<span style=\"color: #0087ff; text-decoration-color: #0087ff\">Dense</span>)                 │ (<span style=\"color: #00d7ff; text-decoration-color: #00d7ff\">None</span>, <span style=\"color: #00af00; text-decoration-color: #00af00\">8</span>)              │           <span style=\"color: #00af00; text-decoration-color: #00af00\">104</span> │\n",
       "├─────────────────────────────────┼────────────────────────┼───────────────┤\n",
       "│ dense_2 (<span style=\"color: #0087ff; text-decoration-color: #0087ff\">Dense</span>)                 │ (<span style=\"color: #00d7ff; text-decoration-color: #00d7ff\">None</span>, <span style=\"color: #00af00; text-decoration-color: #00af00\">1</span>)              │             <span style=\"color: #00af00; text-decoration-color: #00af00\">9</span> │\n",
       "└─────────────────────────────────┴────────────────────────┴───────────────┘\n",
       "</pre>\n"
      ],
      "text/plain": [
       "┏━━━━━━━━━━━━━━━━━━━━━━━━━━━━━━━━━┳━━━━━━━━━━━━━━━━━━━━━━━━┳━━━━━━━━━━━━━━━┓\n",
       "┃\u001b[1m \u001b[0m\u001b[1mLayer (type)                   \u001b[0m\u001b[1m \u001b[0m┃\u001b[1m \u001b[0m\u001b[1mOutput Shape          \u001b[0m\u001b[1m \u001b[0m┃\u001b[1m \u001b[0m\u001b[1m      Param #\u001b[0m\u001b[1m \u001b[0m┃\n",
       "┡━━━━━━━━━━━━━━━━━━━━━━━━━━━━━━━━━╇━━━━━━━━━━━━━━━━━━━━━━━━╇━━━━━━━━━━━━━━━┩\n",
       "│ dense (\u001b[38;5;33mDense\u001b[0m)                   │ (\u001b[38;5;45mNone\u001b[0m, \u001b[38;5;34m12\u001b[0m)             │           \u001b[38;5;34m108\u001b[0m │\n",
       "├─────────────────────────────────┼────────────────────────┼───────────────┤\n",
       "│ dense_1 (\u001b[38;5;33mDense\u001b[0m)                 │ (\u001b[38;5;45mNone\u001b[0m, \u001b[38;5;34m8\u001b[0m)              │           \u001b[38;5;34m104\u001b[0m │\n",
       "├─────────────────────────────────┼────────────────────────┼───────────────┤\n",
       "│ dense_2 (\u001b[38;5;33mDense\u001b[0m)                 │ (\u001b[38;5;45mNone\u001b[0m, \u001b[38;5;34m1\u001b[0m)              │             \u001b[38;5;34m9\u001b[0m │\n",
       "└─────────────────────────────────┴────────────────────────┴───────────────┘\n"
      ]
     },
     "metadata": {},
     "output_type": "display_data"
    },
    {
     "data": {
      "text/html": [
       "<pre style=\"white-space:pre;overflow-x:auto;line-height:normal;font-family:Menlo,'DejaVu Sans Mono',consolas,'Courier New',monospace\"><span style=\"font-weight: bold\"> Total params: </span><span style=\"color: #00af00; text-decoration-color: #00af00\">221</span> (884.00 B)\n",
       "</pre>\n"
      ],
      "text/plain": [
       "\u001b[1m Total params: \u001b[0m\u001b[38;5;34m221\u001b[0m (884.00 B)\n"
      ]
     },
     "metadata": {},
     "output_type": "display_data"
    },
    {
     "data": {
      "text/html": [
       "<pre style=\"white-space:pre;overflow-x:auto;line-height:normal;font-family:Menlo,'DejaVu Sans Mono',consolas,'Courier New',monospace\"><span style=\"font-weight: bold\"> Trainable params: </span><span style=\"color: #00af00; text-decoration-color: #00af00\">221</span> (884.00 B)\n",
       "</pre>\n"
      ],
      "text/plain": [
       "\u001b[1m Trainable params: \u001b[0m\u001b[38;5;34m221\u001b[0m (884.00 B)\n"
      ]
     },
     "metadata": {},
     "output_type": "display_data"
    },
    {
     "data": {
      "text/html": [
       "<pre style=\"white-space:pre;overflow-x:auto;line-height:normal;font-family:Menlo,'DejaVu Sans Mono',consolas,'Courier New',monospace\"><span style=\"font-weight: bold\"> Non-trainable params: </span><span style=\"color: #00af00; text-decoration-color: #00af00\">0</span> (0.00 B)\n",
       "</pre>\n"
      ],
      "text/plain": [
       "\u001b[1m Non-trainable params: \u001b[0m\u001b[38;5;34m0\u001b[0m (0.00 B)\n"
      ]
     },
     "metadata": {},
     "output_type": "display_data"
    }
   ],
   "source": [
    "model.summary()"
   ]
  },
  {
   "cell_type": "code",
   "execution_count": 7,
   "id": "17eb2483",
   "metadata": {},
   "outputs": [],
   "source": [
    "model.compile(\n",
    "    loss='binary_crossentropy', \n",
    "    optimizer='adam',\n",
    "    metrics=['accuracy'])"
   ]
  },
  {
   "cell_type": "code",
   "execution_count": 8,
   "id": "ea6b3308",
   "metadata": {},
   "outputs": [
    {
     "name": "stdout",
     "output_type": "stream",
     "text": [
      "Epoch 1/75\n",
      "77/77 - 0s - 5ms/step - accuracy: 0.5430 - loss: 5.0419\n",
      "Epoch 2/75\n",
      "77/77 - 0s - 531us/step - accuracy: 0.5573 - loss: 1.5724\n",
      "Epoch 3/75\n",
      "77/77 - 0s - 515us/step - accuracy: 0.5833 - loss: 0.9919\n",
      "Epoch 4/75\n",
      "77/77 - 0s - 527us/step - accuracy: 0.6094 - loss: 0.8992\n",
      "Epoch 5/75\n",
      "77/77 - 0s - 517us/step - accuracy: 0.6068 - loss: 0.8272\n",
      "Epoch 6/75\n",
      "77/77 - 0s - 511us/step - accuracy: 0.6250 - loss: 0.7857\n",
      "Epoch 7/75\n",
      "77/77 - 0s - 513us/step - accuracy: 0.6224 - loss: 0.7596\n",
      "Epoch 8/75\n",
      "77/77 - 0s - 517us/step - accuracy: 0.6276 - loss: 0.7953\n",
      "Epoch 9/75\n",
      "77/77 - 0s - 507us/step - accuracy: 0.6315 - loss: 0.7453\n",
      "Epoch 10/75\n",
      "77/77 - 0s - 514us/step - accuracy: 0.6497 - loss: 0.7068\n",
      "Epoch 11/75\n",
      "77/77 - 0s - 510us/step - accuracy: 0.6302 - loss: 0.7482\n",
      "Epoch 12/75\n",
      "77/77 - 0s - 513us/step - accuracy: 0.6641 - loss: 0.6790\n",
      "Epoch 13/75\n",
      "77/77 - 0s - 510us/step - accuracy: 0.6315 - loss: 0.6913\n",
      "Epoch 14/75\n",
      "77/77 - 0s - 515us/step - accuracy: 0.6615 - loss: 0.6653\n",
      "Epoch 15/75\n",
      "77/77 - 0s - 509us/step - accuracy: 0.6602 - loss: 0.6427\n",
      "Epoch 16/75\n",
      "77/77 - 0s - 511us/step - accuracy: 0.6693 - loss: 0.6412\n",
      "Epoch 17/75\n",
      "77/77 - 0s - 515us/step - accuracy: 0.6745 - loss: 0.6467\n",
      "Epoch 18/75\n",
      "77/77 - 0s - 507us/step - accuracy: 0.6862 - loss: 0.6280\n",
      "Epoch 19/75\n",
      "77/77 - 0s - 510us/step - accuracy: 0.6862 - loss: 0.6166\n",
      "Epoch 20/75\n",
      "77/77 - 0s - 515us/step - accuracy: 0.6810 - loss: 0.6069\n",
      "Epoch 21/75\n",
      "77/77 - 0s - 508us/step - accuracy: 0.6901 - loss: 0.6098\n",
      "Epoch 22/75\n",
      "77/77 - 0s - 509us/step - accuracy: 0.6927 - loss: 0.5959\n",
      "Epoch 23/75\n",
      "77/77 - 0s - 509us/step - accuracy: 0.7083 - loss: 0.5943\n",
      "Epoch 24/75\n",
      "77/77 - 0s - 518us/step - accuracy: 0.7057 - loss: 0.6088\n",
      "Epoch 25/75\n",
      "77/77 - 0s - 514us/step - accuracy: 0.6940 - loss: 0.5988\n",
      "Epoch 26/75\n",
      "77/77 - 0s - 510us/step - accuracy: 0.7135 - loss: 0.5730\n",
      "Epoch 27/75\n",
      "77/77 - 0s - 508us/step - accuracy: 0.6979 - loss: 0.6055\n",
      "Epoch 28/75\n",
      "77/77 - 0s - 505us/step - accuracy: 0.7174 - loss: 0.5923\n",
      "Epoch 29/75\n",
      "77/77 - 0s - 514us/step - accuracy: 0.7031 - loss: 0.5950\n",
      "Epoch 30/75\n",
      "77/77 - 0s - 512us/step - accuracy: 0.7174 - loss: 0.5728\n",
      "Epoch 31/75\n",
      "77/77 - 0s - 511us/step - accuracy: 0.6901 - loss: 0.5835\n",
      "Epoch 32/75\n",
      "77/77 - 0s - 525us/step - accuracy: 0.7188 - loss: 0.5736\n",
      "Epoch 33/75\n",
      "77/77 - 0s - 946us/step - accuracy: 0.7201 - loss: 0.5727\n",
      "Epoch 34/75\n",
      "77/77 - 0s - 520us/step - accuracy: 0.6953 - loss: 0.5767\n",
      "Epoch 35/75\n",
      "77/77 - 0s - 516us/step - accuracy: 0.7409 - loss: 0.5572\n",
      "Epoch 36/75\n",
      "77/77 - 0s - 512us/step - accuracy: 0.7044 - loss: 0.5993\n",
      "Epoch 37/75\n",
      "77/77 - 0s - 522us/step - accuracy: 0.7148 - loss: 0.5702\n",
      "Epoch 38/75\n",
      "77/77 - 0s - 514us/step - accuracy: 0.7057 - loss: 0.6044\n",
      "Epoch 39/75\n",
      "77/77 - 0s - 515us/step - accuracy: 0.7279 - loss: 0.5879\n",
      "Epoch 40/75\n",
      "77/77 - 0s - 517us/step - accuracy: 0.7292 - loss: 0.5472\n",
      "Epoch 41/75\n",
      "77/77 - 0s - 518us/step - accuracy: 0.7409 - loss: 0.5366\n",
      "Epoch 42/75\n",
      "77/77 - 0s - 514us/step - accuracy: 0.7253 - loss: 0.5581\n",
      "Epoch 43/75\n",
      "77/77 - 0s - 510us/step - accuracy: 0.7201 - loss: 0.5558\n",
      "Epoch 44/75\n",
      "77/77 - 0s - 509us/step - accuracy: 0.7435 - loss: 0.5477\n",
      "Epoch 45/75\n",
      "77/77 - 0s - 509us/step - accuracy: 0.7214 - loss: 0.5551\n",
      "Epoch 46/75\n",
      "77/77 - 0s - 515us/step - accuracy: 0.7266 - loss: 0.5442\n",
      "Epoch 47/75\n",
      "77/77 - 0s - 509us/step - accuracy: 0.7331 - loss: 0.5379\n",
      "Epoch 48/75\n",
      "77/77 - 0s - 516us/step - accuracy: 0.7357 - loss: 0.5375\n",
      "Epoch 49/75\n",
      "77/77 - 0s - 512us/step - accuracy: 0.7318 - loss: 0.5598\n",
      "Epoch 50/75\n",
      "77/77 - 0s - 508us/step - accuracy: 0.7148 - loss: 0.5614\n",
      "Epoch 51/75\n",
      "77/77 - 0s - 508us/step - accuracy: 0.7383 - loss: 0.5286\n",
      "Epoch 52/75\n",
      "77/77 - 0s - 507us/step - accuracy: 0.7201 - loss: 0.5447\n",
      "Epoch 53/75\n",
      "77/77 - 0s - 515us/step - accuracy: 0.7396 - loss: 0.5292\n",
      "Epoch 54/75\n",
      "77/77 - 0s - 512us/step - accuracy: 0.7318 - loss: 0.5392\n",
      "Epoch 55/75\n",
      "77/77 - 0s - 516us/step - accuracy: 0.7448 - loss: 0.5372\n",
      "Epoch 56/75\n",
      "77/77 - 0s - 509us/step - accuracy: 0.7435 - loss: 0.5243\n",
      "Epoch 57/75\n",
      "77/77 - 0s - 507us/step - accuracy: 0.7422 - loss: 0.5343\n",
      "Epoch 58/75\n",
      "77/77 - 0s - 520us/step - accuracy: 0.7227 - loss: 0.5447\n",
      "Epoch 59/75\n",
      "77/77 - 0s - 510us/step - accuracy: 0.7435 - loss: 0.5394\n",
      "Epoch 60/75\n",
      "77/77 - 0s - 517us/step - accuracy: 0.7526 - loss: 0.5276\n",
      "Epoch 61/75\n",
      "77/77 - 0s - 515us/step - accuracy: 0.7318 - loss: 0.5330\n",
      "Epoch 62/75\n",
      "77/77 - 0s - 512us/step - accuracy: 0.7370 - loss: 0.5270\n",
      "Epoch 63/75\n",
      "77/77 - 0s - 508us/step - accuracy: 0.7370 - loss: 0.5292\n",
      "Epoch 64/75\n",
      "77/77 - 0s - 512us/step - accuracy: 0.7253 - loss: 0.5284\n",
      "Epoch 65/75\n",
      "77/77 - 0s - 508us/step - accuracy: 0.7513 - loss: 0.5227\n",
      "Epoch 66/75\n",
      "77/77 - 0s - 509us/step - accuracy: 0.7422 - loss: 0.5116\n",
      "Epoch 67/75\n",
      "77/77 - 0s - 513us/step - accuracy: 0.7552 - loss: 0.5096\n",
      "Epoch 68/75\n",
      "77/77 - 0s - 511us/step - accuracy: 0.7526 - loss: 0.5101\n",
      "Epoch 69/75\n",
      "77/77 - 0s - 510us/step - accuracy: 0.7422 - loss: 0.5215\n",
      "Epoch 70/75\n",
      "77/77 - 0s - 506us/step - accuracy: 0.7604 - loss: 0.5152\n",
      "Epoch 71/75\n",
      "77/77 - 0s - 508us/step - accuracy: 0.7409 - loss: 0.5249\n",
      "Epoch 72/75\n",
      "77/77 - 0s - 508us/step - accuracy: 0.7487 - loss: 0.5104\n",
      "Epoch 73/75\n",
      "77/77 - 0s - 509us/step - accuracy: 0.7500 - loss: 0.5182\n",
      "Epoch 74/75\n",
      "77/77 - 0s - 519us/step - accuracy: 0.7513 - loss: 0.5281\n",
      "Epoch 75/75\n",
      "77/77 - 0s - 507us/step - accuracy: 0.7513 - loss: 0.5112\n"
     ]
    }
   ],
   "source": [
    "history = model.fit(x.values, y.values, epochs=75, batch_size=10, verbose=2)"
   ]
  },
  {
   "cell_type": "code",
   "execution_count": 9,
   "id": "bbd5e2b8",
   "metadata": {},
   "outputs": [
    {
     "data": {
      "text/plain": [
       "<function matplotlib.pyplot.show(close=None, block=None)>"
      ]
     },
     "execution_count": 9,
     "metadata": {},
     "output_type": "execute_result"
    },
    {
     "data": {
      "image/png": "[encoded data removed]",
      "text/plain": [
       "<Figure size 640x480 with 1 Axes>"
      ]
     },
     "metadata": {},
     "output_type": "display_data"
    }
   ],
   "source": [
    "plt.plot(history.history['loss'])\n",
    "plt.show"
   ]
  },
  {
   "cell_type": "code",
   "execution_count": 10,
   "id": "97d872d0",
   "metadata": {},
   "outputs": [
    {
     "data": {
      "image/png": "[encoded data removed]",
      "text/plain": [
       "<Figure size 640x480 with 1 Axes>"
      ]
     },
     "metadata": {},
     "output_type": "display_data"
    }
   ],
   "source": [
    "plt.plot(history.history['accuracy'])\n",
    "plt.show()"
   ]
  },
  {
   "cell_type": "code",
   "execution_count": 11,
   "id": "aa612a0e",
   "metadata": {},
   "outputs": [],
   "source": [
    "#MALDONADO ALCALA LEONARDO 6IV8"
   ]
  }
 ],
 "metadata": {
  "kernelspec": {
   "display_name": "base",
   "language": "python",
   "name": "python3"
  },
  "language_info": {
   "codemirror_mode": {
    "name": "ipython",
    "version": 3
   },
   "file_extension": ".py",
   "mimetype": "text/x-python",
   "name": "python",
   "nbconvert_exporter": "python",
   "pygments_lexer": "ipython3",
   "version": "3.12.7"
  }
 },
 "nbformat": 4,
 "nbformat_minor": 5
}
