{
 "cells": [
  {
   "cell_type": "code",
   "execution_count": null,
   "id": "e6407058",
   "metadata": {},
   "outputs": [],
   "source": [
    "#MALDONADO ALCALA LEONARDO 6IV8\n",
    "import pandas as pd\n",
    "import matplotlib.pyplot as plt\n",
    "\n",
    "from tensorflow.keras.models import Sequential\n",
    "from tensorflow.keras.layers import Dense\n",
    "from tensorflow.keras.optimizers import Adam"
   ]
  },
  {
   "cell_type": "code",
   "execution_count": 14,
   "id": "f66eb46c",
   "metadata": {},
   "outputs": [
    {
     "name": "stdout",
     "output_type": "stream",
     "text": [
      "<class 'pandas.core.frame.DataFrame'>\n",
      "RangeIndex: 768 entries, 0 to 767\n",
      "Data columns (total 9 columns):\n",
      " #   Column                    Non-Null Count  Dtype  \n",
      "---  ------                    --------------  -----  \n",
      " 0   Pregnancies               768 non-null    int64  \n",
      " 1   Glucose                   768 non-null    int64  \n",
      " 2   BloodPressure             768 non-null    int64  \n",
      " 3   SkinThickness             768 non-null    int64  \n",
      " 4   Insulin                   768 non-null    int64  \n",
      " 5   BMI                       768 non-null    float64\n",
      " 6   DiabetesPedigreeFunction  768 non-null    float64\n",
      " 7   Age                       768 non-null    int64  \n",
      " 8   Outcome                   768 non-null    int64  \n",
      "dtypes: float64(2), int64(7)\n",
      "memory usage: 54.1 KB\n"
     ]
    }
   ],
   "source": [
    "data_df = pd.read_csv('diabetes.csv')\n",
    "data_df.info()"
   ]
  },
  {
   "cell_type": "code",
   "execution_count": 15,
   "id": "095550e7",
   "metadata": {},
   "outputs": [],
   "source": [
    "x= data_df.iloc[:,0:8]\n",
    "y= data_df.iloc[:,8]"
   ]
  },
  {
   "cell_type": "code",
   "execution_count": 16,
   "id": "58b96f62",
   "metadata": {},
   "outputs": [
    {
     "data": {
      "text/plain": [
       "(768, 8)"
      ]
     },
     "execution_count": 16,
     "metadata": {},
     "output_type": "execute_result"
    }
   ],
   "source": [
    "x.shape"
   ]
  },
  {
   "cell_type": "code",
   "execution_count": 17,
   "id": "b42d8147",
   "metadata": {},
   "outputs": [
    {
     "name": "stderr",
     "output_type": "stream",
     "text": [
      "/opt/anaconda3/lib/python3.12/site-packages/keras/src/layers/core/dense.py:93: UserWarning: Do not pass an `input_shape`/`input_dim` argument to a layer. When using Sequential models, prefer using an `Input(shape)` object as the first layer in the model instead.\n",
      "  super().__init__(activity_regularizer=activity_regularizer, **kwargs)\n"
     ]
    }
   ],
   "source": [
    "model = Sequential()\n",
    "model.add(Dense(12, input_dim=8, activation='relu'))\n",
    "model.add(Dense(8, activation='relu'))\n",
    "\n",
    "model.add(Dense(1, activation='sigmoid'))"
   ]
  },
  {
   "cell_type": "code",
   "execution_count": 18,
   "id": "a795b5a8",
   "metadata": {},
   "outputs": [
    {
     "data": {
      "text/html": [
       "<pre style=\"white-space:pre;overflow-x:auto;line-height:normal;font-family:Menlo,'DejaVu Sans Mono',consolas,'Courier New',monospace\"><span style=\"font-weight: bold\">Model: \"sequential_1\"</span>\n",
       "</pre>\n"
      ],
      "text/plain": [
       "\u001b[1mModel: \"sequential_1\"\u001b[0m\n"
      ]
     },
     "metadata": {},
     "output_type": "display_data"
    },
    {
     "data": {
      "text/html": [
       "<pre style=\"white-space:pre;overflow-x:auto;line-height:normal;font-family:Menlo,'DejaVu Sans Mono',consolas,'Courier New',monospace\">┏━━━━━━━━━━━━━━━━━━━━━━━━━━━━━━━━━┳━━━━━━━━━━━━━━━━━━━━━━━━┳━━━━━━━━━━━━━━━┓\n",
       "┃<span style=\"font-weight: bold\"> Layer (type)                    </span>┃<span style=\"font-weight: bold\"> Output Shape           </span>┃<span style=\"font-weight: bold\">       Param # </span>┃\n",
       "┡━━━━━━━━━━━━━━━━━━━━━━━━━━━━━━━━━╇━━━━━━━━━━━━━━━━━━━━━━━━╇━━━━━━━━━━━━━━━┩\n",
       "│ dense_3 (<span style=\"color: #0087ff; text-decoration-color: #0087ff\">Dense</span>)                 │ (<span style=\"color: #00d7ff; text-decoration-color: #00d7ff\">None</span>, <span style=\"color: #00af00; text-decoration-color: #00af00\">12</span>)             │           <span style=\"color: #00af00; text-decoration-color: #00af00\">108</span> │\n",
       "├─────────────────────────────────┼────────────────────────┼───────────────┤\n",
       "│ dense_4 (<span style=\"color: #0087ff; text-decoration-color: #0087ff\">Dense</span>)                 │ (<span style=\"color: #00d7ff; text-decoration-color: #00d7ff\">None</span>, <span style=\"color: #00af00; text-decoration-color: #00af00\">8</span>)              │           <span style=\"color: #00af00; text-decoration-color: #00af00\">104</span> │\n",
       "├─────────────────────────────────┼────────────────────────┼───────────────┤\n",
       "│ dense_5 (<span style=\"color: #0087ff; text-decoration-color: #0087ff\">Dense</span>)                 │ (<span style=\"color: #00d7ff; text-decoration-color: #00d7ff\">None</span>, <span style=\"color: #00af00; text-decoration-color: #00af00\">1</span>)              │             <span style=\"color: #00af00; text-decoration-color: #00af00\">9</span> │\n",
       "└─────────────────────────────────┴────────────────────────┴───────────────┘\n",
       "</pre>\n"
      ],
      "text/plain": [
       "┏━━━━━━━━━━━━━━━━━━━━━━━━━━━━━━━━━┳━━━━━━━━━━━━━━━━━━━━━━━━┳━━━━━━━━━━━━━━━┓\n",
       "┃\u001b[1m \u001b[0m\u001b[1mLayer (type)                   \u001b[0m\u001b[1m \u001b[0m┃\u001b[1m \u001b[0m\u001b[1mOutput Shape          \u001b[0m\u001b[1m \u001b[0m┃\u001b[1m \u001b[0m\u001b[1m      Param #\u001b[0m\u001b[1m \u001b[0m┃\n",
       "┡━━━━━━━━━━━━━━━━━━━━━━━━━━━━━━━━━╇━━━━━━━━━━━━━━━━━━━━━━━━╇━━━━━━━━━━━━━━━┩\n",
       "│ dense_3 (\u001b[38;5;33mDense\u001b[0m)                 │ (\u001b[38;5;45mNone\u001b[0m, \u001b[38;5;34m12\u001b[0m)             │           \u001b[38;5;34m108\u001b[0m │\n",
       "├─────────────────────────────────┼────────────────────────┼───────────────┤\n",
       "│ dense_4 (\u001b[38;5;33mDense\u001b[0m)                 │ (\u001b[38;5;45mNone\u001b[0m, \u001b[38;5;34m8\u001b[0m)              │           \u001b[38;5;34m104\u001b[0m │\n",
       "├─────────────────────────────────┼────────────────────────┼───────────────┤\n",
       "│ dense_5 (\u001b[38;5;33mDense\u001b[0m)                 │ (\u001b[38;5;45mNone\u001b[0m, \u001b[38;5;34m1\u001b[0m)              │             \u001b[38;5;34m9\u001b[0m │\n",
       "└─────────────────────────────────┴────────────────────────┴───────────────┘\n"
      ]
     },
     "metadata": {},
     "output_type": "display_data"
    },
    {
     "data": {
      "text/html": [
       "<pre style=\"white-space:pre;overflow-x:auto;line-height:normal;font-family:Menlo,'DejaVu Sans Mono',consolas,'Courier New',monospace\"><span style=\"font-weight: bold\"> Total params: </span><span style=\"color: #00af00; text-decoration-color: #00af00\">221</span> (884.00 B)\n",
       "</pre>\n"
      ],
      "text/plain": [
       "\u001b[1m Total params: \u001b[0m\u001b[38;5;34m221\u001b[0m (884.00 B)\n"
      ]
     },
     "metadata": {},
     "output_type": "display_data"
    },
    {
     "data": {
      "text/html": [
       "<pre style=\"white-space:pre;overflow-x:auto;line-height:normal;font-family:Menlo,'DejaVu Sans Mono',consolas,'Courier New',monospace\"><span style=\"font-weight: bold\"> Trainable params: </span><span style=\"color: #00af00; text-decoration-color: #00af00\">221</span> (884.00 B)\n",
       "</pre>\n"
      ],
      "text/plain": [
       "\u001b[1m Trainable params: \u001b[0m\u001b[38;5;34m221\u001b[0m (884.00 B)\n"
      ]
     },
     "metadata": {},
     "output_type": "display_data"
    },
    {
     "data": {
      "text/html": [
       "<pre style=\"white-space:pre;overflow-x:auto;line-height:normal;font-family:Menlo,'DejaVu Sans Mono',consolas,'Courier New',monospace\"><span style=\"font-weight: bold\"> Non-trainable params: </span><span style=\"color: #00af00; text-decoration-color: #00af00\">0</span> (0.00 B)\n",
       "</pre>\n"
      ],
      "text/plain": [
       "\u001b[1m Non-trainable params: \u001b[0m\u001b[38;5;34m0\u001b[0m (0.00 B)\n"
      ]
     },
     "metadata": {},
     "output_type": "display_data"
    }
   ],
   "source": [
    "model.summary()"
   ]
  },
  {
   "cell_type": "code",
   "execution_count": 19,
   "id": "17eb2483",
   "metadata": {},
   "outputs": [],
   "source": [
    "model.compile(\n",
    "    loss='binary_crossentropy', \n",
    "    optimizer='adam',\n",
    "    metrics=['accuracy'])"
   ]
  },
  {
   "cell_type": "code",
   "execution_count": 20,
   "id": "ea6b3308",
   "metadata": {},
   "outputs": [
    {
     "name": "stdout",
     "output_type": "stream",
     "text": [
      "Epoch 1/75\n",
      "77/77 - 0s - 6ms/step - accuracy: 0.6419 - loss: 4.0484\n",
      "Epoch 2/75\n",
      "77/77 - 0s - 559us/step - accuracy: 0.6250 - loss: 2.3975\n",
      "Epoch 3/75\n",
      "77/77 - 0s - 561us/step - accuracy: 0.6276 - loss: 1.9881\n",
      "Epoch 4/75\n",
      "77/77 - 0s - 574us/step - accuracy: 0.6107 - loss: 1.7091\n",
      "Epoch 5/75\n",
      "77/77 - 0s - 594us/step - accuracy: 0.5885 - loss: 1.3737\n",
      "Epoch 6/75\n",
      "77/77 - 0s - 583us/step - accuracy: 0.5911 - loss: 1.1526\n",
      "Epoch 7/75\n",
      "77/77 - 0s - 600us/step - accuracy: 0.6042 - loss: 1.0483\n",
      "Epoch 8/75\n",
      "77/77 - 0s - 555us/step - accuracy: 0.6380 - loss: 0.9991\n",
      "Epoch 9/75\n",
      "77/77 - 0s - 560us/step - accuracy: 0.6276 - loss: 0.9399\n",
      "Epoch 10/75\n",
      "77/77 - 0s - 565us/step - accuracy: 0.6367 - loss: 0.9742\n",
      "Epoch 11/75\n",
      "77/77 - 0s - 545us/step - accuracy: 0.6354 - loss: 0.8755\n",
      "Epoch 12/75\n",
      "77/77 - 0s - 546us/step - accuracy: 0.6497 - loss: 0.8790\n",
      "Epoch 13/75\n",
      "77/77 - 0s - 544us/step - accuracy: 0.6471 - loss: 0.8252\n",
      "Epoch 14/75\n",
      "77/77 - 0s - 566us/step - accuracy: 0.6276 - loss: 0.8175\n",
      "Epoch 15/75\n",
      "77/77 - 0s - 588us/step - accuracy: 0.6576 - loss: 0.7572\n",
      "Epoch 16/75\n",
      "77/77 - 0s - 596us/step - accuracy: 0.6458 - loss: 0.7301\n",
      "Epoch 17/75\n",
      "77/77 - 0s - 572us/step - accuracy: 0.6667 - loss: 0.7568\n",
      "Epoch 18/75\n",
      "77/77 - 0s - 1ms/step - accuracy: 0.6549 - loss: 0.7474\n",
      "Epoch 19/75\n",
      "77/77 - 0s - 575us/step - accuracy: 0.6680 - loss: 0.7207\n",
      "Epoch 20/75\n",
      "77/77 - 0s - 576us/step - accuracy: 0.6810 - loss: 0.7021\n",
      "Epoch 21/75\n",
      "77/77 - 0s - 566us/step - accuracy: 0.6810 - loss: 0.6807\n",
      "Epoch 22/75\n",
      "77/77 - 0s - 584us/step - accuracy: 0.6771 - loss: 0.6772\n",
      "Epoch 23/75\n",
      "77/77 - 0s - 583us/step - accuracy: 0.6771 - loss: 0.6728\n",
      "Epoch 24/75\n",
      "77/77 - 0s - 568us/step - accuracy: 0.6693 - loss: 0.6751\n",
      "Epoch 25/75\n",
      "77/77 - 0s - 572us/step - accuracy: 0.6615 - loss: 0.6868\n",
      "Epoch 26/75\n",
      "77/77 - 0s - 718us/step - accuracy: 0.6732 - loss: 0.6669\n",
      "Epoch 27/75\n",
      "77/77 - 0s - 565us/step - accuracy: 0.6914 - loss: 0.6450\n",
      "Epoch 28/75\n",
      "77/77 - 0s - 571us/step - accuracy: 0.6940 - loss: 0.6653\n",
      "Epoch 29/75\n",
      "77/77 - 0s - 587us/step - accuracy: 0.6966 - loss: 0.6371\n",
      "Epoch 30/75\n",
      "77/77 - 0s - 594us/step - accuracy: 0.7005 - loss: 0.6226\n",
      "Epoch 31/75\n",
      "77/77 - 0s - 564us/step - accuracy: 0.7018 - loss: 0.6390\n",
      "Epoch 32/75\n",
      "77/77 - 0s - 577us/step - accuracy: 0.6706 - loss: 0.6688\n",
      "Epoch 33/75\n",
      "77/77 - 0s - 583us/step - accuracy: 0.6745 - loss: 0.6480\n",
      "Epoch 34/75\n",
      "77/77 - 0s - 578us/step - accuracy: 0.6953 - loss: 0.6693\n",
      "Epoch 35/75\n",
      "77/77 - 0s - 572us/step - accuracy: 0.6927 - loss: 0.6349\n",
      "Epoch 36/75\n",
      "77/77 - 0s - 615us/step - accuracy: 0.6888 - loss: 0.6609\n",
      "Epoch 37/75\n",
      "77/77 - 0s - 582us/step - accuracy: 0.6836 - loss: 0.6548\n",
      "Epoch 38/75\n",
      "77/77 - 0s - 580us/step - accuracy: 0.6953 - loss: 0.6141\n",
      "Epoch 39/75\n",
      "77/77 - 0s - 569us/step - accuracy: 0.6966 - loss: 0.6271\n",
      "Epoch 40/75\n",
      "77/77 - 0s - 579us/step - accuracy: 0.7253 - loss: 0.6124\n",
      "Epoch 41/75\n",
      "77/77 - 0s - 579us/step - accuracy: 0.7122 - loss: 0.6057\n",
      "Epoch 42/75\n",
      "77/77 - 0s - 579us/step - accuracy: 0.7109 - loss: 0.6062\n",
      "Epoch 43/75\n",
      "77/77 - 0s - 562us/step - accuracy: 0.7161 - loss: 0.5964\n",
      "Epoch 44/75\n",
      "77/77 - 0s - 545us/step - accuracy: 0.7188 - loss: 0.6182\n",
      "Epoch 45/75\n",
      "77/77 - 0s - 578us/step - accuracy: 0.7083 - loss: 0.5925\n",
      "Epoch 46/75\n",
      "77/77 - 0s - 565us/step - accuracy: 0.7174 - loss: 0.5935\n",
      "Epoch 47/75\n",
      "77/77 - 0s - 589us/step - accuracy: 0.7122 - loss: 0.5936\n",
      "Epoch 48/75\n",
      "77/77 - 0s - 596us/step - accuracy: 0.6940 - loss: 0.6009\n",
      "Epoch 49/75\n",
      "77/77 - 0s - 1ms/step - accuracy: 0.7070 - loss: 0.5850\n",
      "Epoch 50/75\n",
      "77/77 - 0s - 568us/step - accuracy: 0.7083 - loss: 0.5939\n",
      "Epoch 51/75\n",
      "77/77 - 0s - 561us/step - accuracy: 0.6953 - loss: 0.6172\n",
      "Epoch 52/75\n",
      "77/77 - 0s - 560us/step - accuracy: 0.7174 - loss: 0.5741\n",
      "Epoch 53/75\n",
      "77/77 - 0s - 572us/step - accuracy: 0.7083 - loss: 0.6112\n",
      "Epoch 54/75\n",
      "77/77 - 0s - 559us/step - accuracy: 0.7135 - loss: 0.5847\n",
      "Epoch 55/75\n",
      "77/77 - 0s - 569us/step - accuracy: 0.7240 - loss: 0.5691\n",
      "Epoch 56/75\n",
      "77/77 - 0s - 562us/step - accuracy: 0.7018 - loss: 0.5927\n",
      "Epoch 57/75\n",
      "77/77 - 0s - 529us/step - accuracy: 0.7122 - loss: 0.6102\n",
      "Epoch 58/75\n",
      "77/77 - 0s - 564us/step - accuracy: 0.7161 - loss: 0.5709\n",
      "Epoch 59/75\n",
      "77/77 - 0s - 570us/step - accuracy: 0.7344 - loss: 0.5493\n",
      "Epoch 60/75\n",
      "77/77 - 0s - 560us/step - accuracy: 0.7201 - loss: 0.5622\n",
      "Epoch 61/75\n",
      "77/77 - 0s - 535us/step - accuracy: 0.7109 - loss: 0.5699\n",
      "Epoch 62/75\n",
      "77/77 - 0s - 544us/step - accuracy: 0.7018 - loss: 0.5846\n",
      "Epoch 63/75\n",
      "77/77 - 0s - 531us/step - accuracy: 0.7266 - loss: 0.5716\n",
      "Epoch 64/75\n",
      "77/77 - 0s - 535us/step - accuracy: 0.7044 - loss: 0.5807\n",
      "Epoch 65/75\n",
      "77/77 - 0s - 541us/step - accuracy: 0.6901 - loss: 0.5976\n",
      "Epoch 66/75\n",
      "77/77 - 0s - 543us/step - accuracy: 0.7148 - loss: 0.5826\n",
      "Epoch 67/75\n",
      "77/77 - 0s - 532us/step - accuracy: 0.7083 - loss: 0.5757\n",
      "Epoch 68/75\n",
      "77/77 - 0s - 542us/step - accuracy: 0.7279 - loss: 0.5692\n",
      "Epoch 69/75\n",
      "77/77 - 0s - 539us/step - accuracy: 0.7201 - loss: 0.5736\n",
      "Epoch 70/75\n",
      "77/77 - 0s - 552us/step - accuracy: 0.7122 - loss: 0.6205\n",
      "Epoch 71/75\n",
      "77/77 - 0s - 537us/step - accuracy: 0.6914 - loss: 0.5841\n",
      "Epoch 72/75\n",
      "77/77 - 0s - 647us/step - accuracy: 0.7057 - loss: 0.5810\n",
      "Epoch 73/75\n",
      "77/77 - 0s - 527us/step - accuracy: 0.7109 - loss: 0.5853\n",
      "Epoch 74/75\n",
      "77/77 - 0s - 531us/step - accuracy: 0.7344 - loss: 0.5406\n",
      "Epoch 75/75\n",
      "77/77 - 0s - 542us/step - accuracy: 0.7383 - loss: 0.5768\n"
     ]
    }
   ],
   "source": [
    "history = model.fit(x.values, y.values, epochs=75, batch_size=10, verbose=2)"
   ]
  },
  {
   "cell_type": "code",
   "execution_count": 21,
   "id": "bbd5e2b8",
   "metadata": {},
   "outputs": [
    {
     "data": {
      "text/plain": [
       "<function matplotlib.pyplot.show(close=None, block=None)>"
      ]
     },
     "execution_count": 21,
     "metadata": {},
     "output_type": "execute_result"
    },
    {
     "data": {
      "image/png": "[encoded data removed]",
      "text/plain": [
       "<Figure size 640x480 with 1 Axes>"
      ]
     },
     "metadata": {},
     "output_type": "display_data"
    }
   ],
   "source": [
    "plt.plot(history.history['loss'])\n",
    "plt.show"
   ]
  },
  {
   "cell_type": "code",
   "execution_count": 22,
   "id": "97d872d0",
   "metadata": {},
   "outputs": [
    {
     "data": {
      "image/png": "[encoded data removed]",
      "text/plain": [
       "<Figure size 640x480 with 1 Axes>"
      ]
     },
     "metadata": {},
     "output_type": "display_data"
    }
   ],
   "source": [
    "plt.plot(history.history['accuracy'])\n",
    "plt.show()"
   ]
  }
 ],
 "metadata": {
  "kernelspec": {
   "display_name": "base",
   "language": "python",
   "name": "python3"
  },
  "language_info": {
   "codemirror_mode": {
    "name": "ipython",
    "version": 3
   },
   "file_extension": ".py",
   "mimetype": "text/x-python",
   "name": "python",
   "nbconvert_exporter": "python",
   "pygments_lexer": "ipython3",
   "version": "3.12.7"
  }
 },
 "nbformat": 4,
 "nbformat_minor": 5
}
